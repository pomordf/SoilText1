{
 "cells": [
  {
   "cell_type": "code",
   "execution_count": 1,
   "id": "friendly-thong",
   "metadata": {
    "ExecuteTime": {
     "end_time": "2021-03-06T16:07:28.098207Z",
     "start_time": "2021-03-06T16:06:58.192Z"
    }
   },
   "outputs": [
    {
     "name": "stderr",
     "output_type": "stream",
     "text": [
      "also installing the dependency 'jsonlite'\n",
      "\n"
     ]
    },
    {
     "name": "stdout",
     "output_type": "stream",
     "text": [
      "\n",
      "  There is a binary version available but the source version is later:\n",
      "      binary source needs_compilation\n",
      "dplyr  1.0.4  1.0.5              TRUE\n",
      "\n",
      "  Binaries will be installed\n"
     ]
    },
    {
     "name": "stderr",
     "output_type": "stream",
     "text": [
      "Warning message:\n",
      "\"package 'jsonlite' is in use and will not be installed\""
     ]
    },
    {
     "name": "stdout",
     "output_type": "stream",
     "text": [
      "package 'xlsx' successfully unpacked and MD5 sums checked\n",
      "package 'ggplot2' successfully unpacked and MD5 sums checked\n",
      "package 'RColorBrewer' successfully unpacked and MD5 sums checked\n",
      "package 'plyr' successfully unpacked and MD5 sums checked\n",
      "package 'dplyr' successfully unpacked and MD5 sums checked\n",
      "package 'tidyr' successfully unpacked and MD5 sums checked\n",
      "package 'tidyverse' successfully unpacked and MD5 sums checked\n",
      "package 'RNOmni' successfully unpacked and MD5 sums checked\n",
      "package 'MASS' successfully unpacked and MD5 sums checked\n",
      "package 'car' successfully unpacked and MD5 sums checked\n",
      "package 'caret' successfully unpacked and MD5 sums checked\n",
      "package 'broom' successfully unpacked and MD5 sums checked\n",
      "package 'broomExtra' successfully unpacked and MD5 sums checked\n",
      "package 'agricolae' successfully unpacked and MD5 sums checked\n",
      "package 'minpack.lm' successfully unpacked and MD5 sums checked\n",
      "package 'nls.multstart' successfully unpacked and MD5 sums checked\n",
      "package 'segmented' successfully unpacked and MD5 sums checked\n",
      "package 'sievetest' successfully unpacked and MD5 sums checked\n",
      "package 'factoextra' successfully unpacked and MD5 sums checked\n",
      "package 'FactoMineR' successfully unpacked and MD5 sums checked\n",
      "package 'vegan' successfully unpacked and MD5 sums checked\n",
      "package 'correlationfunnel' successfully unpacked and MD5 sums checked\n",
      "package 'HydroMe' successfully unpacked and MD5 sums checked\n",
      "package 'ggpubr' successfully unpacked and MD5 sums checked\n",
      "package 'rstatix' successfully unpacked and MD5 sums checked\n",
      "package 'rayshader' successfully unpacked and MD5 sums checked\n",
      "package 'foreach' successfully unpacked and MD5 sums checked\n",
      "package 'doParallel' successfully unpacked and MD5 sums checked\n",
      "package 'itertools' successfully unpacked and MD5 sums checked\n",
      "package 'bigstatsr' successfully unpacked and MD5 sums checked\n",
      "package 'bigmemory' successfully unpacked and MD5 sums checked\n",
      "package 'devtools' successfully unpacked and MD5 sums checked\n",
      "\n",
      "The downloaded binary packages are in\n",
      "\tC:\\Users\\User\\AppData\\Local\\Temp\\RtmpGyHSg9\\downloaded_packages\n"
     ]
    }
   ],
   "source": [
    "install.packages(c(\"xlsx\", \"ggplot2\", \"RColorBrewer\", \"plyr\", \"dplyr\", \"tidyr\", \"tidyverse\", \"RNOmni\", \"MASS\", \"car\", \"caret\", \n",
    "                   \"broom\", \"broomExtra\", \"agricolae\", \"minpack.lm\", \"nls.multstart\", \"segmented\", \"sievetest\", \"factoextra\",\n",
    "                  \"FactoMineR\", \"vegan\", \"correlationfunnel\", \"HydroMe\", \"ggpubr\", \"rstatix\", \"rayshader\", \"foreach\", \n",
    "                   \"doParallel\",\"itertools\", \"bigstatsr\", \"bigmemory\", \"devtools\" ))"
   ]
  },
  {
   "cell_type": "code",
   "execution_count": 3,
   "id": "collected-lighting",
   "metadata": {},
   "outputs": [
    {
     "name": "stderr",
     "output_type": "stream",
     "text": [
      "Loading required package: nlmrt\n",
      "Warning message in library(package, lib.loc = lib.loc, character.only = TRUE, logical.return = TRUE, :\n",
      "\"there is no package called 'nlmrt'\""
     ]
    },
    {
     "name": "stdout",
     "output_type": "stream",
     "text": [
      "package 'nlmrt' successfully unpacked and MD5 sums checked\n",
      "\n",
      "The downloaded binary packages are in\n",
      "\tC:\\Users\\User\\AppData\\Local\\Temp\\RtmpmG7uGf\\downloaded_packages\n"
     ]
    },
    {
     "name": "stderr",
     "output_type": "stream",
     "text": [
      "Loading required package: httr\n",
      "Warning message:\n",
      "\"package 'httr' was built under R version 3.6.3\"Loading required package: vadose\n",
      "Warning message in library(package, lib.loc = lib.loc, character.only = TRUE, logical.return = TRUE, :\n",
      "\"there is no package called 'vadose'\"WARNING: Rtools is required to build R packages, but is not currently installed.\n",
      "\n",
      "Please download and install Rtools 3.5 from https://cran.r-project.org/bin/windows/Rtools/.\n",
      "Downloading GitHub repo gowusu/vadose@HEAD\n"
     ]
    },
    {
     "name": "stdout",
     "output_type": "stream",
     "text": [
      "\n"
     ]
    },
    {
     "name": "stderr",
     "output_type": "stream",
     "text": [
      "WARNING: Rtools is required to build R packages, but is not currently installed.\n",
      "\n",
      "Please download and install Rtools 3.5 from https://cran.r-project.org/bin/windows/Rtools/.\n"
     ]
    },
    {
     "name": "stdout",
     "output_type": "stream",
     "text": [
      "v  checking for file 'C:\\Users\\User\\AppData\\Local\\Temp\\RtmpmG7uGf\\remotes53879c519e1\\gowusu-vadose-d846627/DESCRIPTION'\n",
      "-  preparing 'vadose': (743ms)\n",
      "v  checking DESCRIPTION meta-information ...\n",
      "-  checking for LF line-endings in source and make files and shell scripts\n",
      "-  checking for empty or unneeded directories\n",
      "-  looking to see if a 'data/datalist' file should be added\n",
      "-  building 'vadose_1.0-0.tar.gz'\n",
      "   \n",
      "\r"
     ]
    },
    {
     "ename": "ERROR",
     "evalue": "Error: Failed to install 'vadose' from GitHub:\n  (конвертировано из предупреждения) installation of package 'C:/Users/User/AppData/Local/Temp/RtmpmG7uGf/file5384bf839c3/vadose_1.0-0.tar.gz' had non-zero exit status\n",
     "output_type": "error",
     "traceback": [
      "Error: Failed to install 'vadose' from GitHub:\n  (конвертировано из предупреждения) installation of package 'C:/Users/User/AppData/Local/Temp/RtmpmG7uGf/file5384bf839c3/vadose_1.0-0.tar.gz' had non-zero exit status\nTraceback:\n",
      "1. devtools::install_github(\"gowusu/vadose\")   # at line 15 of file <text>",
      "2. pkgbuild::with_build_tools({\n .     ellipsis::check_dots_used(action = getOption(\"devtools.ellipsis_action\", \n .         rlang::warn))\n .     {\n .         remotes <- lapply(repo, github_remote, ref = ref, subdir = subdir, \n .             auth_token = auth_token, host = host)\n .         install_remotes(remotes, auth_token = auth_token, host = host, \n .             dependencies = dependencies, upgrade = upgrade, force = force, \n .             quiet = quiet, build = build, build_opts = build_opts, \n .             build_manual = build_manual, build_vignettes = build_vignettes, \n .             repos = repos, type = type, ...)\n .     }\n . }, required = FALSE)",
      "3. install_remotes(remotes, auth_token = auth_token, host = host, \n .     dependencies = dependencies, upgrade = upgrade, force = force, \n .     quiet = quiet, build = build, build_opts = build_opts, build_manual = build_manual, \n .     build_vignettes = build_vignettes, repos = repos, type = type, \n .     ...)",
      "4. tryCatch(res[[i]] <- install_remote(remotes[[i]], ...), error = function(e) {\n .     stop(remote_install_error(remotes[[i]], e))\n . })",
      "5. tryCatchList(expr, classes, parentenv, handlers)",
      "6. tryCatchOne(expr, names, parentenv, handlers[[1L]])",
      "7. value[[3L]](cond)"
     ]
    }
   ],
   "source": [
    " if (packageVersion(\"devtools\") < 1.6) {\n",
    " \n",
    "  if (!require(devtools)) {\n",
    "  install.packages(\"devtools\")\n",
    "  }\n",
    "  install.packages(\"devtools\")\n",
    "  }\n",
    "  if(!require(nlmrt)){\n",
    "  install.packages(\"nlmrt\")\n",
    "  }\n",
    "if(!require(httr)){\n",
    "  install.packages(\"httr\")\n",
    "  }\n",
    "if(!require(vadose)){\n",
    "devtools::install_github(\"gowusu/vadose\")\n",
    "  }\n"
   ]
  },
  {
   "cell_type": "code",
   "execution_count": 5,
   "id": "identical-radical",
   "metadata": {
    "scrolled": true
   },
   "outputs": [
    {
     "name": "stdout",
     "output_type": "stream",
     "text": [
      "\n",
      "v  checking for file 'C:\\Users\\User\\0projects\\SoilText1\\vadose_1.0-0\\vadose/DESCRIPTION' ...\n",
      "-  preparing 'vadose':\n",
      "v  checking DESCRIPTION meta-information ...\n",
      "-  checking for LF line-endings in source and make files and shell scripts\n",
      "-  checking for empty or unneeded directories\n",
      "-  looking to see if a 'data/datalist' file should be added\n",
      "-  building 'vadose_1.0-0.tar.gz'\n",
      "   \n",
      "Running \"C:/Users/User/.conda/envs/work/lib/R/bin/x64/Rcmd.exe\" INSTALL \\\n",
      "  \"C:\\Users\\User\\AppData\\Local\\Temp\\RtmpmG7uGf/vadose_1.0-0.tar.gz\" \\\n",
      "  --install-tests \n",
      "* installing to library 'C:/Users/User/.conda/envs/work/Lib/R/library'\n",
      "* installing *source* package 'vadose' ...\n",
      "** using staged installation\n",
      "** R\n",
      "** data\n",
      "** inst\n",
      "** byte-compile and prepare package for lazy loading\n",
      "Предупреждение:\n",
      "пакет 'nlmrt' был собран под R версии 3.6.3 \n",
      "Note: break used in wrong context: no loop is visible \n",
      "Note: break used in wrong context: no loop is visible \n",
      "Note: break used in wrong context: no loop is visible \n",
      "Note: break used in wrong context: no loop is visible \n",
      "Note: break used in wrong context: no loop is visible \n",
      "Note: break used in wrong context: no loop is visible \n",
      "Note: break used in wrong context: no loop is visible \n",
      "Note: break used in wrong context: no loop is visible \n",
      "Note: break used in wrong context: no loop is visible \n",
      "Note: break used in wrong context: no loop is visible \n",
      "Note: break used in wrong context: no loop is visible \n",
      "Note: break used in wrong context: no loop is visible \n",
      "Note: break used in wrong context: no loop is visible \n",
      "Note: break used in wrong context: no loop is visible \n",
      "** help\n",
      "*** installing help indices\n",
      "  converting help for package     finding HTML links ...'vadose'\n",
      " готово\n",
      "    BEST                                    html  \n",
      "    OFEST                                   html  \n",
      "    SCS                                     html  \n",
      "    andersson                               html  \n",
      "    brutsaert                               html  \n",
      "    fredlund3                               html  \n",
      "    fredlund4                               html  \n",
      "    gof                                     html  \n",
      "    gompertz                                html  \n",
      "    greenampt                               html  \n",
      "    haverkamp                               html  \n",
      "    horton                                  html  \n",
      "    htheta                                  html  \n",
      "    jaky                                    html  \n",
      "    kostiakov                               html  \n",
      "    ksat                                    html  \n",
      "    lass3                                   html  \n",
      "    logarithmic                             html  \n",
      "    logistic2                               html  \n",
      "    logistic3                               html  \n",
      "    logistic4                               html  \n",
      "    modified.kostiakov                      html  \n",
      "    offinbest                               html  \n",
      "    offinmeta                               html  \n",
      "    offinpsd                                html  \n",
      "    philip                                  html  \n",
      "    revised.modified.kostiakov              html  \n",
      "    stroosnijder                            html  \n",
      "    sw                                      html  \n",
      "    texture                                 html  \n",
      "    vadose.rank                             html  \n",
      "    vadose.tryCatch                         html  \n",
      "    valiantzas                              html  \n",
      "    vg                                      html  \n",
      "    zhuang3                                 html  \n",
      "    zhuang4                                 html  \n",
      "** building package indices\n",
      "** testing if installed package can be loaded from temporary location\n",
      "Предупреждение: package 'nlmrt' was built under R version 3.6.3\n",
      "** testing if installed package can be loaded from final location\n",
      "Предупреждение: package 'nlmrt' was built under R version 3.6.3\n",
      "** testing if installed package keeps a record of temporary installation path\n",
      "* DONE (vadose)\n"
     ]
    }
   ],
   "source": [
    "library(devtools)\n",
    "install(\"C:/Users/User/0projects/SoilText1/vadose_1.0-0/vadose\")"
   ]
  },
  {
   "cell_type": "code",
   "execution_count": 2,
   "id": "retired-professor",
   "metadata": {},
   "outputs": [
    {
     "name": "stderr",
     "output_type": "stream",
     "text": [
      "also installing the dependencies 'jsonlite', 'pkgload', 'rlang'\n",
      "\n"
     ]
    },
    {
     "name": "stdout",
     "output_type": "stream",
     "text": [
      "\n",
      "  There is a binary version available but the source version is later:\n",
      "        binary source needs_compilation\n",
      "pkgload  1.1.0  1.2.0              TRUE\n",
      "\n",
      "package 'jsonlite' successfully unpacked and MD5 sums checked\n"
     ]
    },
    {
     "name": "stderr",
     "output_type": "stream",
     "text": [
      "Warning message:\n",
      "\"cannot remove prior installation of package 'jsonlite'\"Warning message in file.copy(savedcopy, lib, recursive = TRUE):\n",
      "\"проблема с копированием C:\\ProgramData\\Anaconda3\\Lib\\R\\library\\00LOCK\\jsonlite\\libs\\x64\\jsonlite.dll в C:\\ProgramData\\Anaconda3\\Lib\\R\\library\\jsonlite\\libs\\x64\\jsonlite.dll: Permission denied\"Warning message:\n",
      "\"restored 'jsonlite'\""
     ]
    },
    {
     "name": "stdout",
     "output_type": "stream",
     "text": [
      "package 'rlang' successfully unpacked and MD5 sums checked\n"
     ]
    },
    {
     "name": "stderr",
     "output_type": "stream",
     "text": [
      "Warning message:\n",
      "\"cannot remove prior installation of package 'rlang'\"Warning message in file.copy(savedcopy, lib, recursive = TRUE):\n",
      "\"проблема с копированием C:\\ProgramData\\Anaconda3\\Lib\\R\\library\\00LOCK\\rlang\\libs\\x64\\rlang.dll в C:\\ProgramData\\Anaconda3\\Lib\\R\\library\\rlang\\libs\\x64\\rlang.dll: Permission denied\"Warning message:\n",
      "\"restored 'rlang'\""
     ]
    },
    {
     "name": "stdout",
     "output_type": "stream",
     "text": [
      "package 'devtools' successfully unpacked and MD5 sums checked\n",
      "\n",
      "The downloaded binary packages are in\n",
      "\tC:\\Users\\Public\\Documents\\Wondershare\\CreatorTemp\\RtmpCqATAF\\downloaded_packages\n"
     ]
    },
    {
     "name": "stderr",
     "output_type": "stream",
     "text": [
      "installing the source package 'pkgload'\n",
      "\n",
      "Warning message in install.packages(\"devtools\"):\n",
      "\"installation of package 'pkgload' had non-zero exit status\"Warning message:\n",
      "\"package 'devtools' was built under R version 3.6.3\"Loading required package: usethis\n",
      "Warning message:\n",
      "\"package 'usethis' was built under R version 3.6.3\"Error: package or namespace load failed for 'usethis' in loadNamespace(i, c(lib.loc, .libPaths()), versionCheck = vI[[i]]):\n",
      " namespace 'rlang' 0.3.4 is being loaded, but >= 0.4.10 is required\n"
     ]
    },
    {
     "ename": "ERROR",
     "evalue": "Error: package 'usethis' could not be loaded\n",
     "output_type": "error",
     "traceback": [
      "Error: package 'usethis' could not be loaded\nTraceback:\n",
      "1. library(devtools)",
      "2. .getRequiredPackages2(pkgInfo, quietly = quietly)",
      "3. stop(gettextf(\"package %s could not be loaded\", sQuote(pkg)), \n .     call. = FALSE, domain = NA)"
     ]
    }
   ],
   "source": [
    "library(devtools)\n",
    "install(\"E:/vadose_1.0-0/vadose\")"
   ]
  },
  {
   "cell_type": "code",
   "execution_count": null,
   "id": "negative-panama",
   "metadata": {},
   "outputs": [],
   "source": [
    "detach(\"package:jsonlite\")"
   ]
  },
  {
   "cell_type": "code",
   "execution_count": 1,
   "id": "fuzzy-operations",
   "metadata": {
    "ExecuteTime": {
     "end_time": "2021-03-06T16:16:51.225707Z",
     "start_time": "2021-03-06T16:16:48.657Z"
    },
    "scrolled": true
   },
   "outputs": [
    {
     "name": "stdout",
     "output_type": "stream",
     "text": [
      "package 'xlsx' successfully unpacked and MD5 sums checked\n",
      "\n",
      "The downloaded binary packages are in\n",
      "\tC:\\Users\\User\\AppData\\Local\\Temp\\RtmpcHZ2wR\\downloaded_packages\n"
     ]
    }
   ],
   "source": [
    "install.packages(\"xlsx\")"
   ]
  },
  {
   "cell_type": "code",
   "execution_count": 5,
   "id": "arctic-notebook",
   "metadata": {
    "ExecuteTime": {
     "end_time": "2021-03-06T16:17:55.217156Z",
     "start_time": "2021-03-06T16:17:55.179Z"
    }
   },
   "outputs": [
    {
     "name": "stderr",
     "output_type": "stream",
     "text": [
      "Warning message:\n",
      "\"package 'rJava' was built under R version 3.6.3\""
     ]
    },
    {
     "ename": "ERROR",
     "evalue": "Error: package or namespace load failed for 'rJava':\n .onLoad failed in loadNamespace() for 'rJava', details:\n  call: fun(libname, pkgname)\n  error: JAVA_HOME cannot be determined from the Registry\n",
     "output_type": "error",
     "traceback": [
      "Error: package or namespace load failed for 'rJava':\n .onLoad failed in loadNamespace() for 'rJava', details:\n  call: fun(libname, pkgname)\n  error: JAVA_HOME cannot be determined from the Registry\nTraceback:\n",
      "1. library(rJava)",
      "2. tryCatch({\n .     attr(package, \"LibPath\") <- which.lib.loc\n .     ns <- loadNamespace(package, lib.loc)\n .     env <- attachNamespace(ns, pos = pos, deps, exclude, include.only)\n . }, error = function(e) {\n .     P <- if (!is.null(cc <- conditionCall(e))) \n .         paste(\" in\", deparse(cc)[1L])\n .     else \"\"\n .     msg <- gettextf(\"package or namespace load failed for %s%s:\\n %s\", \n .         sQuote(package), P, conditionMessage(e))\n .     if (logical.return) \n .         message(paste(\"Error:\", msg), domain = NA)\n .     else stop(msg, call. = FALSE, domain = NA)\n . })",
      "3. tryCatchList(expr, classes, parentenv, handlers)",
      "4. tryCatchOne(expr, names, parentenv, handlers[[1L]])",
      "5. value[[3L]](cond)",
      "6. stop(msg, call. = FALSE, domain = NA)"
     ]
    }
   ],
   "source": [
    "library(rJava)"
   ]
  }
 ],
 "metadata": {
  "kernelspec": {
   "display_name": "R",
   "language": "R",
   "name": "ir"
  },
  "language_info": {
   "codemirror_mode": "r",
   "file_extension": ".r",
   "mimetype": "text/x-r-source",
   "name": "R",
   "pygments_lexer": "r",
   "version": "3.6.1"
  },
  "latex_envs": {
   "LaTeX_envs_menu_present": true,
   "autoclose": false,
   "autocomplete": true,
   "bibliofile": "biblio.bib",
   "cite_by": "apalike",
   "current_citInitial": 1,
   "eqLabelWithNumbers": true,
   "eqNumInitial": 1,
   "hotkeys": {
    "equation": "Ctrl-E",
    "itemize": "Ctrl-I"
   },
   "labels_anchors": false,
   "latex_user_defs": false,
   "report_style_numbering": false,
   "user_envs_cfg": false
  },
  "toc": {
   "base_numbering": 1,
   "nav_menu": {},
   "number_sections": true,
   "sideBar": true,
   "skip_h1_title": false,
   "title_cell": "Table of Contents",
   "title_sidebar": "Contents",
   "toc_cell": false,
   "toc_position": {},
   "toc_section_display": true,
   "toc_window_display": false
  },
  "varInspector": {
   "cols": {
    "lenName": 16,
    "lenType": 16,
    "lenVar": 40
   },
   "kernels_config": {
    "python": {
     "delete_cmd_postfix": "",
     "delete_cmd_prefix": "del ",
     "library": "var_list.py",
     "varRefreshCmd": "print(var_dic_list())"
    },
    "r": {
     "delete_cmd_postfix": ") ",
     "delete_cmd_prefix": "rm(",
     "library": "var_list.r",
     "varRefreshCmd": "cat(var_dic_list()) "
    }
   },
   "types_to_exclude": [
    "module",
    "function",
    "builtin_function_or_method",
    "instance",
    "_Feature"
   ],
   "window_display": false
  }
 },
 "nbformat": 4,
 "nbformat_minor": 5
}
